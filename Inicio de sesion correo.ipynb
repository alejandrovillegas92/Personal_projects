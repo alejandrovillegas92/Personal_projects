{
 "cells": [
  {
   "cell_type": "markdown",
   "metadata": {},
   "source": [
    "# inicio de sesion correo"
   ]
  },
  {
   "cell_type": "code",
   "execution_count": null,
   "metadata": {},
   "outputs": [],
   "source": [
    "#Correo electronico con registro e inicio de sesion correcto con validacion de correo\n",
    "print('Bienvenido a tu correo electrónico')\n",
    "\n",
    "registro = {}\n",
    "while True:\n",
    "    opcion = int(input('''Qué opción deseas:\n",
    "        1: Registrarte\n",
    "        2: Iniciar Sesión\n",
    "        3: Salir: '''))\n",
    "\n",
    "    if opcion == 1:\n",
    "        registro_email = input('Ingresa tu correo: ')\n",
    "        nombre = input('Ingresa tu nombre(s): ')\n",
    "        apellido1 = input('Ingresa tu apellido paterno: ')\n",
    "        apellido2 = input('Ingresa tu apellido materno: ')\n",
    "        edad = int(input('Ingresa tu edad: '))\n",
    "        sexo = input('Ingrese su sexo: \"M\" para masculino y \"F\" para femenino. ')\n",
    "        password = input('Ingresa tu contraseña: ')\n",
    "        \n",
    "\n",
    "        registro[registro_email] = {\n",
    "            'Nombre': nombre,\n",
    "            'Apellido paterno': apellido1,\n",
    "            'Apellido materno': apellido2,\n",
    "            'Edad': edad,\n",
    "            'Sexo': sexo,\n",
    "            'Password': password\n",
    "        }\n",
    "\n",
    "        print('Tus datos de registro son:', registro[registro_email])\n",
    "\n",
    "    elif opcion == 2:\n",
    "        email = input('Ingresa tu correo electrónico: ')\n",
    "        password = input('Ingresa tu contraseña: ')\n",
    "\n",
    "        if email in registro and password == registro[email]['Password']:\n",
    "            print('Inicio de sesión correcto')\n",
    "            print('Bienvenido', nombre)\n",
    "            break\n",
    "        else:\n",
    "            print('Inicio de sesión incorrecto, revisar usuario o contraseña')\n",
    "\n",
    "    elif opcion == 3:\n",
    "        print('Gracias, vuelve pronto')\n",
    "        break\n",
    "\n",
    "    else:\n",
    "        print('Error, ingrese una opción válida')"
   ]
  }
 ],
 "metadata": {
  "kernelspec": {
   "display_name": "Python 3",
   "language": "python",
   "name": "python3"
  },
  "language_info": {
   "name": "python",
   "version": "3.9.4"
  },
  "orig_nbformat": 4
 },
 "nbformat": 4,
 "nbformat_minor": 2
}
