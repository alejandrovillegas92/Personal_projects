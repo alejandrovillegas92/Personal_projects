{
 "cells": [
  {
   "cell_type": "markdown",
   "metadata": {},
   "source": [
    "Aprendiendo python 3"
   ]
  },
  {
   "cell_type": "markdown",
   "metadata": {},
   "source": [
    "estructuras de control y bucles"
   ]
  },
  {
   "cell_type": "code",
   "execution_count": 5,
   "metadata": {},
   "outputs": [
    {
     "name": "stdout",
     "output_type": "stream",
     "text": [
      "[0, 1, 2, 3, 4, 5, 6, 7, 8, 9]\n",
      "0\n",
      "1\n",
      "2\n",
      "3\n",
      "4\n",
      "5\n",
      "6\n",
      "7\n",
      "8\n",
      "9\n",
      "10\n",
      "11\n",
      "12\n",
      "13\n",
      "14\n",
      "15\n",
      "16\n",
      "17\n"
     ]
    }
   ],
   "source": [
    "#figuras de control bucles for\n",
    "lst = []\n",
    "\n",
    "for i in range(10):\n",
    " lst.append(i)\n",
    "print(lst)\n",
    "\n",
    "string = 'Anita lava la tina'\n",
    "for i in range(len(string)): #De esta forma medimos las letras de una palabra\n",
    " print(i)"
   ]
  },
  {
   "cell_type": "code",
   "execution_count": 6,
   "metadata": {},
   "outputs": [
    {
     "name": "stdout",
     "output_type": "stream",
     "text": [
      "viendo la letra: p\n",
      "viendo la letra: y\n",
      "viendo la letra: t\n",
      "viendo la letra: h\n",
      "viendo la letra: o\n",
      "viendo la letra: n\n"
     ]
    }
   ],
   "source": [
    "for letra  in 'python':\n",
    "    print('viendo la letra: ' +  letra)"
   ]
  },
  {
   "cell_type": "code",
   "execution_count": 7,
   "metadata": {},
   "outputs": [
    {
     "name": "stdout",
     "output_type": "stream",
     "text": [
      "viendo la letra: p\n",
      "viendo la letra: y\n",
      "viendo la letra: t\n",
      "viendo la letra: o\n",
      "viendo la letra: n\n"
     ]
    }
   ],
   "source": [
    "for letra  in 'python':\n",
    "    if letra == 'h':\n",
    "        continue#Se omitira la palabra h e ignora la linea de codigo donde viene la h\n",
    "    print('viendo la letra: ' +  letra)"
   ]
  },
  {
   "cell_type": "code",
   "execution_count": 12,
   "metadata": {},
   "outputs": [
    {
     "name": "stdout",
     "output_type": "stream",
     "text": [
      "8\n",
      "18\n"
     ]
    }
   ],
   "source": [
    "nombre = 'GreatSky'\n",
    "\n",
    "print(len(nombre))\n",
    "\n",
    "nombre2 = 'Anita lava la tina'\n",
    "contador = 0\n",
    "\n",
    "for i in nombre:\n",
    "    contador +=1\n",
    "\n",
    "print(len(nombre2)) #Todo este codigo lo que hace es contar las palabras junto con los espacios"
   ]
  },
  {
   "cell_type": "code",
   "execution_count": 15,
   "metadata": {},
   "outputs": [
    {
     "name": "stdout",
     "output_type": "stream",
     "text": [
      "15\n"
     ]
    }
   ],
   "source": [
    "nombre2 = 'Anita lava la tina'#De esta manera contamos las letras la palabras\n",
    "contador = 0\n",
    "\n",
    "for i in nombre2:\n",
    "    if i == ' ':\n",
    "        continue\n",
    "    contador +=1\n",
    "print(contador)\n"
   ]
  },
  {
   "cell_type": "code",
   "execution_count": 19,
   "metadata": {},
   "outputs": [
    {
     "name": "stdout",
     "output_type": "stream",
     "text": [
      "Correo correcto\n"
     ]
    }
   ],
   "source": [
    "email = input('Introduce tu email: ')\n",
    "\n",
    "for i in email:\n",
    "\n",
    "    if i == '@':\n",
    "        arroba = True\n",
    "        print('Correo correcto')\n",
    "\n",
    "        break\n",
    "else:\n",
    "    arroba =False\n",
    "    print('Correo incorrecto')"
   ]
  },
  {
   "cell_type": "markdown",
   "metadata": {},
   "source": [
    "Generadores"
   ]
  },
  {
   "cell_type": "code",
   "execution_count": 4,
   "metadata": {},
   "outputs": [
    {
     "name": "stdout",
     "output_type": "stream",
     "text": [
      "[2, 4, 6, 8, 10, 12, 14, 16, 18]\n"
     ]
    }
   ],
   "source": [
    "def generaPares(limite): #Los generadores se construyen con base en funciones, en este caso esta funcion devuelve una lista de numeros pares\n",
    "\n",
    "    num = 1\n",
    "\n",
    "    lst = []\n",
    "\n",
    "    while num < limite:\n",
    "        lst.append(num*2)\n",
    "        num = num+1\n",
    "\n",
    "    return lst\n",
    "\n",
    "print(generaPares(10))"
   ]
  },
  {
   "cell_type": "code",
   "execution_count": 8,
   "metadata": {},
   "outputs": [
    {
     "name": "stdout",
     "output_type": "stream",
     "text": [
      "2\n",
      "4\n",
      "6\n",
      "8\n",
      "10\n",
      "12\n",
      "14\n",
      "16\n",
      "18\n"
     ]
    }
   ],
   "source": [
    "def generaPares(limite): #De esta manera podemos ver la misma funcion pero como generador\n",
    "\n",
    "    num = 1\n",
    "\n",
    "\n",
    "    while num < limite:\n",
    "        yield num*2\n",
    "        \n",
    "        num = num+1\n",
    "devuelvePares = generaPares(10)\n",
    "\n",
    "for i in devuelvePares:\n",
    "\n",
    "    print(i)"
   ]
  },
  {
   "cell_type": "code",
   "execution_count": 9,
   "metadata": {},
   "outputs": [
    {
     "name": "stdout",
     "output_type": "stream",
     "text": [
      "2\n",
      "Esto es un ejemplo...\n",
      "4\n",
      "Esto es un ejemplo...\n",
      "6\n",
      "Esto es un ejemplo...\n"
     ]
    }
   ],
   "source": [
    "def generaPares(limite): \n",
    "\n",
    "    num = 1\n",
    "\n",
    "\n",
    "    while num < limite:\n",
    "        yield num*2\n",
    "        \n",
    "        num = num+1\n",
    "devuelvePares = generaPares(10)\n",
    "\n",
    "print(next(devuelvePares)) #Con esto controlamos el flujo de los objetos iterables\n",
    "\n",
    "print('Esto es un ejemplo...') #entre llamada y llamada el objeto generador entra en estado de suspension para ahorrar recursos\n",
    "\n",
    "print(next(devuelvePares))\n",
    "\n",
    "print('Esto es un ejemplo...')\n",
    "\n",
    "print(next(devuelvePares))\n",
    "\n",
    "print('Esto es un ejemplo...')"
   ]
  },
  {
   "cell_type": "code",
   "execution_count": 10,
   "metadata": {},
   "outputs": [
    {
     "name": "stdout",
     "output_type": "stream",
     "text": [
      "<generator object generador at 0x0000019DAD95DBA0>\n",
      "1\n",
      "2\n",
      "3\n"
     ]
    }
   ],
   "source": [
    "def generador():\n",
    "     yield 1\n",
    "\n",
    "     yield 2\n",
    "\n",
    "     yield 3\n",
    "\n",
    "gen = generador()\n",
    "\n",
    "print(gen)\n",
    "\n",
    "for valor in gen:\n",
    "     print(valor)"
   ]
  },
  {
   "cell_type": "code",
   "execution_count": 39,
   "metadata": {},
   "outputs": [
    {
     "name": "stdout",
     "output_type": "stream",
     "text": [
      "1\n",
      "2\n",
      "3\n",
      "4\n",
      "5\n",
      "6\n",
      "7\n",
      "8\n",
      "9\n"
     ]
    }
   ],
   "source": [
    "def generador2(limite):\n",
    "\n",
    "    num = 1\n",
    "\n",
    "    while num < limite:\n",
    "\n",
    "        yield num\n",
    "\n",
    "        num = num+1 #Siempre es importante ponerle esto, ya que si hacemos el bucle se quedara ciclado porquen nunca llega al numero\n",
    "\n",
    "gen2 = generador2(10)#A este numero, al que ponemos como argumento\n",
    "\n",
    "for i in gen2:\n",
    "\n",
    "    print(i)"
   ]
  },
  {
   "cell_type": "code",
   "execution_count": 40,
   "metadata": {},
   "outputs": [
    {
     "name": "stdout",
     "output_type": "stream",
     "text": [
      "Chihuahua\n",
      "Monterrey\n"
     ]
    }
   ],
   "source": [
    "def devuelve_ciudades(*ciudades):#Cuando se pone un asterico en antes del argumento quiere decir que se va a poner un numero indeterminado de elementos\n",
    "\n",
    "    for ciudad in ciudades:\n",
    "        yield ciudad\n",
    "\n",
    "ciudades_devueltas = devuelve_ciudades(\"Chihuahua\", \"Monterrey\", \"Hermosillo\", \"Ensenada\", \"Tampico\", \"Torreon\", \"Tijuana\", \"Culiacan\", \"Durango\", \"La Paz\")\n",
    "\n",
    "print(next(ciudades_devueltas))\n",
    "\n",
    "print(next(ciudades_devueltas))\n",
    "\n",
    "\n",
    "\n"
   ]
  },
  {
   "cell_type": "code",
   "execution_count": 42,
   "metadata": {},
   "outputs": [
    {
     "name": "stdout",
     "output_type": "stream",
     "text": [
      "C\n",
      "h\n",
      "i\n"
     ]
    }
   ],
   "source": [
    "def devuelve_ciudades(*ciudades):\n",
    "\n",
    "    for ciudad in ciudades:\n",
    "        for subciudad in ciudad: #Con este bucle for anidado podemos acceder a los elementos de las instancias, en este caso acceder a las letras de las palabras\n",
    "            yield subciudad\n",
    "\n",
    "ciudades_devueltas = devuelve_ciudades(\"Chihuahua\", \"Monterrey\", \"Hermosillo\", \"Ensenada\", \"Tampico\", \"Torreon\", \"Tijuana\", \"Culiacan\", \"Durango\", \"La Paz\")\n",
    "\n",
    "print(next(ciudades_devueltas))\n",
    "\n",
    "print(next(ciudades_devueltas))\n",
    "\n",
    "print(next(ciudades_devueltas))"
   ]
  },
  {
   "cell_type": "code",
   "execution_count": 43,
   "metadata": {},
   "outputs": [
    {
     "name": "stdout",
     "output_type": "stream",
     "text": [
      "C\n",
      "h\n",
      "i\n"
     ]
    }
   ],
   "source": [
    "def devuelve_ciudades(*ciudades):\n",
    "\n",
    "    for ciudad in ciudades:\n",
    "        yield from ciudad #Pero con el yield from nos evitamos hacer los ciclos for anidados\n",
    "\n",
    "ciudades_devueltas = devuelve_ciudades(\"Chihuahua\", \"Monterrey\", \"Hermosillo\", \"Ensenada\", \"Tampico\", \"Torreon\", \"Tijuana\", \"Culiacan\", \"Durango\", \"La Paz\")\n",
    "\n",
    "print(next(ciudades_devueltas))\n",
    "\n",
    "print(next(ciudades_devueltas))\n",
    "\n",
    "print(next(ciudades_devueltas))"
   ]
  },
  {
   "cell_type": "markdown",
   "metadata": {},
   "source": [
    "Excepciones"
   ]
  },
  {
   "cell_type": "code",
   "execution_count": 4,
   "metadata": {},
   "outputs": [
    {
     "name": "stdout",
     "output_type": "stream",
     "text": [
      "Error, no se puede introducir letras, deben ser numeros, intente de nuevo\n",
      "Error, no se puede introducir letras, deben ser numeros, intente de nuevo\n",
      "Error, no se puede introducir letras, deben ser numeros, intente de nuevo\n",
      "Error, no se puede introducir letras, deben ser numeros, intente de nuevo\n",
      "Error, no se puede introducir letras, deben ser numeros, intente de nuevo\n",
      "Error, no se puede introducir letras, deben ser numeros, intente de nuevo\n",
      "Error, no se puede introducir letras, deben ser numeros, intente de nuevo\n",
      "9\n",
      "Operacion ejecutada. Continuacion de ejecucion del programa\n"
     ]
    }
   ],
   "source": [
    "def suma(num1, num2):\n",
    "    return num1 + num2\n",
    "\n",
    "def resta(num1, num2):\n",
    "    return num1 - num2\n",
    "\n",
    "def multiplicacion(num1, num2):\n",
    "    return num1 * num2\n",
    "\n",
    "def division(num1, num2):\n",
    "    try:\n",
    "        return num1 / num2\n",
    "    except ZeroDivisionError: #De esta manera tenemos los errores controlados, pero primero tendremos que poner un try, funciona como un if y un else\n",
    "        print(\"No se puede dividir entre cero\")\n",
    "        return 'Operacion erronea'\n",
    "while True:\n",
    "    try:\n",
    "        op1 = int(input('Introduce el primer numero: '))\n",
    "        op2 = int(input('Introduce el segundo numero: '))\n",
    "        break\n",
    "    except ValueError:\n",
    "        print('Error, no se puede introducir letras, deben ser numeros, intente de nuevo')\n",
    "    \n",
    "operacion = input('Que operacion deseas hacer: 1: suma, 2: resta, 3: multiplicacion o 4: division')\n",
    "\n",
    "\n",
    "if operacion == '1':\n",
    "    print(suma(op1,op2))\n",
    "elif operacion == '2':\n",
    "    print(resta(op1,op2))\n",
    "elif operacion == '3':\n",
    "    print(multiplicacion(op1,op2))\n",
    "elif operacion == '4':\n",
    "    print(division(op1,op2))\n",
    "\n",
    "else:\n",
    "    print('Operacion invalida')\n",
    "\n",
    "print('Operacion ejecutada. Continuacion de ejecucion del programa')"
   ]
  },
  {
   "cell_type": "code",
   "execution_count": 7,
   "metadata": {},
   "outputs": [
    {
     "name": "stdout",
     "output_type": "stream",
     "text": [
      "Error, los valores introducidos deben ser numeros no letras, intente de nuevo\n",
      "Calculo terminado\n"
     ]
    }
   ],
   "source": [
    "#Otro ejemplo de try y except con usos de errores\n",
    "def suma():\n",
    "    try: \n",
    "        op1 = float(input('Introduce el primer numero: '))\n",
    "        op2 = float(input('Introduce el segundo numero: '))\n",
    "\n",
    "        print('La suma de los numeros introducidos es: ',(op1 + op2))\n",
    "\n",
    "    except ValueError:\n",
    "        print('Error, los valores introducidos deben ser numeros no letras, intente de nuevo')\n",
    "    finally:\n",
    "        print('Calculo terminado')\n",
    "\n",
    "def resta():\n",
    "    try: \n",
    "        op1 = float(input('Introduce el primer numero: '))\n",
    "        op2 = float(input('Introduce el segundo numero: '))\n",
    "\n",
    "        print('La resta de los numeros introducidos es: ',(op1 - op2))\n",
    "\n",
    "    except ValueError:\n",
    "        print('Error, los valores introducidos deben ser numeros no letras, intente de nuevo')\n",
    "    finally:\n",
    "        print('Calculo terminado')\n",
    "    \n",
    "def multiplicacion():\n",
    "    \n",
    "    try: \n",
    "        op1 = float(input('Introduce el primer numero: '))\n",
    "        op2 = float(input('Introduce el segundo numero: '))\n",
    "\n",
    "        print('La multiplicacion de los numeros introducidos es: ',(op1 * op2))\n",
    "\n",
    "    except ValueError:\n",
    "        print('Error, los valores introducidos deben ser numeros no letras, intente de nuevo')\n",
    "    finally:\n",
    "        print('Calculo terminado')\n",
    "    \n",
    "def division():\n",
    "    try: \n",
    "        op1 = float(input('Introduce el primer numero: '))\n",
    "        op2 = float(input('Introduce el segundo numero: '))\n",
    "\n",
    "        print('La division de los numeros introducidos es: ',(op1 / op2))\n",
    "\n",
    "    except ValueError:\n",
    "        print('Error, los valores introducidos deben ser numeros no letras, intente de nuevo')\n",
    "    \n",
    "    except ZeroDivisionError:\n",
    "        print('Error, no se puede dividir entre cero, intente de nuevo')\n",
    "\n",
    "    finally:\n",
    "        print('Calculo terminado')\n",
    "\n",
    "division()"
   ]
  },
  {
   "cell_type": "code",
   "execution_count": 22,
   "metadata": {},
   "outputs": [
    {
     "name": "stdout",
     "output_type": "stream",
     "text": [
      "Eres joven\n"
     ]
    }
   ],
   "source": [
    "def EvaluaEdad(edad):\n",
    "\n",
    "    if edad < 0:\n",
    "        raise TypeError('No se permiten edades negativas') #raise es lanzar una excepcion \n",
    "    if edad == 0:\n",
    "        raise ZeroDivisionError('El cero no es una edad')\n",
    "    if edad < 20:\n",
    "        return 'Eres muy joven'\n",
    "    elif edad < 40:\n",
    "        return 'Eres joven'\n",
    "    elif edad < 50:\n",
    "        return 'Eres maduro'\n",
    "    elif edad < 60:\n",
    "        return 'Eres grande'\n",
    "    elif edad < 100:\n",
    "        return 'Cuidate...'\n",
    "    else:\n",
    "        return 'Error de edad'\n",
    "\n",
    "print(EvaluaEdad(20))"
   ]
  },
  {
   "cell_type": "code",
   "execution_count": 30,
   "metadata": {},
   "outputs": [
    {
     "name": "stdout",
     "output_type": "stream",
     "text": [
      "El numero no puede ser negativo\n",
      "Programa terminado\n"
     ]
    }
   ],
   "source": [
    "import math\n",
    "\n",
    "def CalculaRaiz(num1):\n",
    "    if num1 < 0:\n",
    "        raise ValueError ('El numero no puede ser negativo')\n",
    "    else:\n",
    "        return math.sqrt(num1)\n",
    "\n",
    "op1 = int(input('Introduce un numero: '))\n",
    "\n",
    "try:\n",
    "    print(CalculaRaiz(op1))\n",
    "\n",
    "except ValueError as ErrorDeNumeroNegativo:\n",
    "    print(ErrorDeNumeroNegativo)\n",
    "\n",
    "print('Programa terminado')"
   ]
  }
 ],
 "metadata": {
  "kernelspec": {
   "display_name": "Python 3",
   "language": "python",
   "name": "python3"
  },
  "language_info": {
   "codemirror_mode": {
    "name": "ipython",
    "version": 3
   },
   "file_extension": ".py",
   "mimetype": "text/x-python",
   "name": "python",
   "nbconvert_exporter": "python",
   "pygments_lexer": "ipython3",
   "version": "3.9.4"
  },
  "orig_nbformat": 4
 },
 "nbformat": 4,
 "nbformat_minor": 2
}
